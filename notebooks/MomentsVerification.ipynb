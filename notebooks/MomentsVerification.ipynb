{
 "cells": [
  {
   "cell_type": "markdown",
   "id": "governmental-invalid",
   "metadata": {},
   "source": [
    "# Moments verification\n",
    "\n",
    "Here we verify (or grimly disprove) our analytic calculation of the moisture moments. "
   ]
  },
  {
   "cell_type": "code",
   "execution_count": 1,
   "id": "stupid-intensity",
   "metadata": {},
   "outputs": [],
   "source": [
    "# Import general functions\n",
    "import numpy as np\n",
    "import matplotlib.pyplot as plt\n",
    "import pandas as pd \n",
    "import matplotlib as mpl \n",
    "from random import randrange \n",
    "\n",
    "mpl.rcParams['mathtext.fontset'] = 'stix'\n",
    "mpl.rcParams['font.family'] = 'STIXGeneral'\n",
    "\n",
    "cms = mpl.cm \n",
    "\n",
    "import sys\n",
    "sys.path.append(\"/data/keeling/a/adammb4/heatwaves-physics/src/\")\n",
    "from getSimluationFluxes import * \n",
    "from getAnalyticVerificationFuncs import *\n",
    "from getStats import * "
   ]
  },
  {
   "cell_type": "code",
   "execution_count": 2,
   "id": "essential-horizon",
   "metadata": {},
   "outputs": [],
   "source": [
    "df = pd.read_csv(\"/data/keeling/a/adammb4/heatwaves-physics/data/oct4_simulated_time_mois_precip.csv\")"
   ]
  },
  {
   "cell_type": "code",
   "execution_count": 3,
   "id": "missing-slovenia",
   "metadata": {},
   "outputs": [],
   "source": [
    "time = df.time.values\n",
    "moisture = df.moisture.values\n",
    "precip_unclean = df.precip.values\n",
    "precip_clean = precip_unclean[np.logical_not(np.isnan(precip_unclean))]"
   ]
  },
  {
   "cell_type": "code",
   "execution_count": 4,
   "id": "magnetic-thong",
   "metadata": {},
   "outputs": [],
   "source": [
    "# define model parameters \n",
    "C = 4180 # J/K\n",
    "F = 500 # W / m^2\n",
    "alpha = 10 # W / K for now, usually between 5 and 25\n",
    "v_L = 1.25 * 10**(-2) # kg air / m^2 / s\n",
    "L = 2.5 * 10**6 # J / kg H20\n",
    "gamma = 3.7 * 10**(-4) # kg H20 / kg air / K\n",
    "T_D = 5 + 273 # K \n",
    "mu = 50 # kg / m^2\n",
    "\n",
    "param_list = [C, F, alpha, v_L, L, gamma, T_D, mu]"
   ]
  },
  {
   "cell_type": "code",
   "execution_count": 5,
   "id": "mighty-contact",
   "metadata": {},
   "outputs": [],
   "source": [
    "mois_m1_num = getNMoment(1, moisture)\n",
    "mois_m2_num = getNMoment(2, moisture)\n",
    "mois_m3_num = getNMoment(3, moisture)\n",
    "mois_m4_num = getNMoment(4, moisture)"
   ]
  },
  {
   "cell_type": "code",
   "execution_count": 6,
   "id": "numerical-publication",
   "metadata": {},
   "outputs": [],
   "source": [
    "zeta1 = getZeta(1, param_list, precip_clean)\n",
    "zeta2 = getZeta(2, param_list, precip_clean)\n",
    "zeta3 = getZeta(3, param_list, precip_clean)\n",
    "zeta4 = getZeta(4, param_list, precip_clean)"
   ]
  },
  {
   "cell_type": "code",
   "execution_count": 7,
   "id": "mediterranean-cassette",
   "metadata": {},
   "outputs": [],
   "source": [
    "omega = 3.5**(-1) * 86400**(-1) # events per second"
   ]
  },
  {
   "cell_type": "code",
   "execution_count": 9,
   "id": "protective-spine",
   "metadata": {},
   "outputs": [],
   "source": [
    "mois_m1_ana = omega * zeta1\n",
    "mois_m2_ana = omega * zeta2 + omega**2 * zeta1**2\n",
    "mois_m3_ana = omega * zeta3 + 3 * omega**2 * zeta1 * zeta2 + omega**3 * zeta1**3\n",
    "mois_m4_ana = omega * zeta4 + omega**2 *(3 * zeta2**2 + 4 * zeta2 * zeta1) + 6 * omega**3 * zeta1**2 * zeta2 + omega**4 * zeta1**4"
   ]
  },
  {
   "cell_type": "code",
   "execution_count": 12,
   "id": "religious-research",
   "metadata": {},
   "outputs": [
    {
     "data": {
      "text/plain": [
       "([0.04868079808726651,\n",
       "  0.015356782721730881,\n",
       "  0.009509614935765989,\n",
       "  0.008098747002553627],\n",
       " [0.047817070822136744,\n",
       "  0.016439084620556127,\n",
       "  0.010998548938299418,\n",
       "  0.011148846924707956])"
      ]
     },
     "execution_count": 12,
     "metadata": {},
     "output_type": "execute_result"
    }
   ],
   "source": [
    "num_list = [mois_m1_num, mois_m2_num, mois_m3_num, mois_m4_num]\n",
    "ana_list = [mois_m1_ana, mois_m2_ana, mois_m3_ana, mois_m4_ana]\n",
    "\n",
    "num_list, ana_list"
   ]
  },
  {
   "cell_type": "code",
   "execution_count": 15,
   "id": "greater-mortgage",
   "metadata": {},
   "outputs": [],
   "source": [
    "perc_diff_list = []\n",
    "for i in range(0, len(num_list)):\n",
    "    tmp = 100 * abs(num_list[i] - ana_list[i])/num_list[i]\n",
    "    perc_diff_list.append(tmp)"
   ]
  },
  {
   "cell_type": "code",
   "execution_count": 16,
   "id": "academic-thinking",
   "metadata": {},
   "outputs": [
    {
     "data": {
      "text/plain": [
       "[1.7742668548313982, 7.047712521801301, 15.65714292945235, 37.661380472715074]"
      ]
     },
     "execution_count": 16,
     "metadata": {},
     "output_type": "execute_result"
    }
   ],
   "source": [
    "perc_diff_list"
   ]
  },
  {
   "cell_type": "code",
   "execution_count": null,
   "id": "dynamic-elephant",
   "metadata": {},
   "outputs": [],
   "source": []
  }
 ],
 "metadata": {
  "kernelspec": {
   "display_name": "Python 3",
   "language": "python",
   "name": "python3"
  },
  "language_info": {
   "codemirror_mode": {
    "name": "ipython",
    "version": 3
   },
   "file_extension": ".py",
   "mimetype": "text/x-python",
   "name": "python",
   "nbconvert_exporter": "python",
   "pygments_lexer": "ipython3",
   "version": "3.8.5"
  }
 },
 "nbformat": 4,
 "nbformat_minor": 5
}
