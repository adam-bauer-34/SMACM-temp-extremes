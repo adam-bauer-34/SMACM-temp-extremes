{
 "cells": [
  {
   "cell_type": "markdown",
   "id": "cellular-advertiser",
   "metadata": {},
   "source": [
    "# Moisture Simulation\n",
    "\n",
    "In this notebook, we simulate moisture dynamics for N > 100 precip events. The resulting time series is written to a .csv, which is used in other notebooks to properly be used to verify our analytical calculations."
   ]
  },
  {
   "cell_type": "code",
   "execution_count": 1,
   "id": "voluntary-quarterly",
   "metadata": {},
   "outputs": [],
   "source": [
    "# Import general functions\n",
    "import numpy as np\n",
    "import matplotlib.pyplot as plt\n",
    "import matplotlib as mpl \n",
    "from random import randrange \n",
    "import pandas as pd\n",
    "from scipy.special import lambertw\n",
    "\n",
    "mpl.rcParams['mathtext.fontset'] = 'stix'\n",
    "mpl.rcParams['font.family'] = 'STIXGeneral'\n",
    "\n",
    "cms = mpl.cm "
   ]
  },
  {
   "cell_type": "code",
   "execution_count": 2,
   "id": "thrown-gentleman",
   "metadata": {},
   "outputs": [],
   "source": [
    "import sys\n",
    "sys.path.append(\"/data/keeling/a/adammb4/heatwaves-physics/src/\")\n",
    "from getSimluationFluxes import * \n",
    "from getAnalyticVerificationFuncs import *\n",
    "from getSimulate import * "
   ]
  },
  {
   "cell_type": "markdown",
   "id": "clinical-suffering",
   "metadata": {},
   "source": [
    "## Model setup\n",
    "\n",
    "Here we make an array of model parameters and simluation parameters."
   ]
  },
  {
   "cell_type": "code",
   "execution_count": 3,
   "id": "dress-porter",
   "metadata": {},
   "outputs": [],
   "source": [
    "# define model parameters \n",
    "C = 4180 # J/K\n",
    "F = 500 # W / m^2\n",
    "alpha = 10 # W / K for now, usually between 5 and 25\n",
    "v_L = 1.25 * 10**(-2) # kg air / m^2 / s\n",
    "L = 2.5 * 10**6 # J / kg H20\n",
    "gamma = 3.7 * 10**(-4) # kg H20 / kg air / K\n",
    "T_D = 5 + 273 # K \n",
    "mu = 50 # kg / m^2\n",
    "\n",
    "param_list = [C, F, alpha, v_L, L, gamma, T_D, mu]"
   ]
  },
  {
   "cell_type": "markdown",
   "id": "serial-density",
   "metadata": {},
   "source": [
    "## Full fledged simulation\n",
    "\n",
    "Here we run the simulation until we've hit a specified amount of precip events."
   ]
  },
  {
   "cell_type": "code",
   "execution_count": null,
   "id": "distant-manual",
   "metadata": {},
   "outputs": [],
   "source": [
    "# setup lists\n",
    "time_list = [0]\n",
    "mois_list = [0]\n",
    "precip_list = []\n",
    "\n",
    "# loop quantities\n",
    "freq_tracker = 1\n",
    "precip_tracker = 1\n",
    "N_precip_events = 1000\n",
    "iter_tracker = 1\n",
    "\n",
    "# precip dist params\n",
    "precip_mean = 0.1\n",
    "precip_scale = 0.5\n",
    "\n",
    "# freq dist params\n",
    "omega = 3.5 * 86400\n",
    "\n",
    "# run simulation until the enough precip events are recorded\n",
    "while precip_tracker <= N_precip_events:\n",
    "    if iter_tracker == freq_tracker:\n",
    "        tmp_precip = np.random.gamma(precip_mean, precip_scale)\n",
    "        tmp_mois = mois_list[iter_tracker - 1] + getMFlux1D(mois_list[iter_tracker-1], param_list, tmp_precip)\n",
    "        \n",
    "        mois_list.append(tmp_mois)\n",
    "        precip_list.append(tmp_precip)\n",
    "        \n",
    "        freq_tracker += int(np.random.poisson(omega))\n",
    "        precip_tracker += 1\n",
    "        #print(precip_tracker)\n",
    "    \n",
    "    else:\n",
    "        tmp_mois = mois_list[iter_tracker - 1] + getMFlux1D(mois_list[iter_tracker-1], param_list, 0)\n",
    "        \n",
    "        mois_list.append(tmp_mois)\n",
    "    time_list.append(iter_tracker)\n",
    "    iter_tracker += 1\n",
    "\n",
    "# make pandas dataframe to write data (with mismatching size) to csv for further analysis\n",
    "d = dict( time = np.array(time_list), moisture = np.array(mois_list), precip = np.array(precip_list))\n",
    "df = pd.DataFrame(dict([ (k, pd.Series(v)) for k,v in d.items() ] ))\n",
    "\n",
    "# write to csv\n",
    "df.to_csv(\"/data/keeling/a/adammb4/heatwaves-physics/data/oct13_simulated_time_mois_precip_10e3events.csv\")"
   ]
  },
  {
   "cell_type": "code",
   "execution_count": null,
   "id": "fossil-slide",
   "metadata": {},
   "outputs": [],
   "source": []
  }
 ],
 "metadata": {
  "kernelspec": {
   "display_name": "Python 3",
   "language": "python",
   "name": "python3"
  },
  "language_info": {
   "codemirror_mode": {
    "name": "ipython",
    "version": 3
   },
   "file_extension": ".py",
   "mimetype": "text/x-python",
   "name": "python",
   "nbconvert_exporter": "python",
   "pygments_lexer": "ipython3",
   "version": "3.8.5"
  }
 },
 "nbformat": 4,
 "nbformat_minor": 5
}
