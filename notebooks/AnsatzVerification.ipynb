{
 "cells": [
  {
   "cell_type": "markdown",
   "id": "assigned-checklist",
   "metadata": {},
   "source": [
    "# Ansatz Verification\n",
    "\n",
    "In this notebook, we numerically verify the ansatz we made to solve the 1D moisture equation forced by stochastic noise. We first do a toy example, then simulate the full dynamics."
   ]
  },
  {
   "cell_type": "code",
   "execution_count": 1,
   "id": "organic-finland",
   "metadata": {},
   "outputs": [],
   "source": [
    "# Import general functions\n",
    "import numpy as np\n",
    "import matplotlib.pyplot as plt\n",
    "import matplotlib as mpl \n",
    "from random import randrange \n",
    "from scipy.special import lambertw\n",
    "\n",
    "mpl.rcParams['mathtext.fontset'] = 'stix'\n",
    "mpl.rcParams['font.family'] = 'STIXGeneral'\n",
    "\n",
    "cms = mpl.cm \n",
    "\n",
    "import sys\n",
    "sys.path.append(\"/data/keeling/a/adammb4/heatwaves-physics/src/\")\n",
    "from getSimluationFluxes import * \n",
    "from getAnalyticVerificationFuncs import *\n",
    "from getSimulate import * "
   ]
  },
  {
   "cell_type": "code",
   "execution_count": 2,
   "id": "specific-verse",
   "metadata": {},
   "outputs": [],
   "source": [
    "# setup \n",
    "# define model parameters \n",
    "C = 4180 # J/K\n",
    "F = 300 # W / m^2\n",
    "alpha = 10 # W / K for now, usually between 5 and 25\n",
    "v_L = 1.25 * 10**(-2) # kg air / m^2 / s\n",
    "L = 2.5 * 10**6 # J / kg H20\n",
    "gamma = 3.7 * 10**(-4) # kg H20 / kg air / K\n",
    "m0 = 0.1\n",
    "T_D = 290 # K \n",
    "mu = 50 # kg / m^2\n",
    "\n",
    "param_list = [C, F, alpha, v_L, L, gamma, T_D, mu, m0]"
   ]
  },
  {
   "cell_type": "markdown",
   "id": "surface-cursor",
   "metadata": {},
   "source": [
    "Here we test the validity of our ansatz that the 1D moisture equation is solved by a superposition of Lambert W functions. To do this, we need to create our precipitation forcing, which we do first.\n",
    "\n",
    "Precip can be modeled as instantaneous injections of moisture into the soil column, with amplitudes drawn from a Gamma distribution and frequencies drawn from a Poisson distribution. \n",
    "\n",
    "### Toy Model: Manually Input Fluxes"
   ]
  },
  {
   "cell_type": "code",
   "execution_count": 12,
   "id": "allied-petersburg",
   "metadata": {},
   "outputs": [],
   "source": [
    "N_steps_toy = 10**6\n",
    "timestep = 1\n",
    "time = np.arange(0, N_steps_toy * timestep, timestep)\n",
    "\n",
    "# setup precip fluxes \n",
    "moisture = np.zeros(N_steps_toy)\n",
    "moisture_full = np.zeros_like(moisture)\n",
    "temp = np.zeros_like(moisture)\n",
    "temp[0] = 310\n",
    "moisture_full[0] = 0.2\n",
    "precip = np.zeros(N_steps_toy)\n",
    "\n",
    "p_event1 = 0.5\n",
    "p_event2 = 0.2\n",
    "p_event3 = 0.4\n",
    "\n",
    "t_event1 = 0\n",
    "t_event2 = int(N_steps_toy/10)\n",
    "t_event3 = int(N_steps_toy * 2/3)\n",
    "precip[0] = p_event1\n",
    "precip[t_event2] = p_event2\n",
    "precip[t_event3] = p_event3"
   ]
  },
  {
   "cell_type": "code",
   "execution_count": 13,
   "id": "explicit-debut",
   "metadata": {},
   "outputs": [],
   "source": [
    "# simulate moisutre evo with 1D equation\n",
    "for i in range(1, N_steps_toy):\n",
    "    temp[i] = temp[i-1] + timestep * getTFluxFull(temp[i-1], moisture_full[i-1], param_list)\n",
    "    moisture_full[i] = moisture_full[i-1] + timestep * getMFluxFull(temp[i-1], moisture_full[i-1], param_list, precip[i-1])\n",
    "    moisture[i] = moisture[i - 1] + timestep * getMFlux1D(moisture[i-1], param_list, precip[i - 1])"
   ]
  },
  {
   "cell_type": "code",
   "execution_count": 14,
   "id": "peripheral-courage",
   "metadata": {},
   "outputs": [
    {
     "data": {
      "text/plain": [
       "[<matplotlib.lines.Line2D at 0x2b338f81bd30>]"
      ]
     },
     "execution_count": 14,
     "metadata": {},
     "output_type": "execute_result"
    },
    {
     "data": {
      "image/png": "[encoded data removed]",
      "text/plain": [
       "<Figure size 864x576 with 1 Axes>"
      ]
     },
     "metadata": {
      "needs_background": "light"
     },
     "output_type": "display_data"
    }
   ],
   "source": [
    "fig, ax = plt.subplots(1, figsize=(12,8))\n",
    "\n",
    "ax.plot(moisture_full, temp)"
   ]
  },
  {
   "cell_type": "code",
   "execution_count": null,
   "id": "incredible-attraction",
   "metadata": {},
   "outputs": [],
   "source": [
    "# make my ansatz\n",
    "heaviside1 = getHeaviside(N_steps_toy, t_event1 * timestep + timestep)\n",
    "heaviside2 = getHeaviside(N_steps_toy, t_event2 * timestep + timestep)\n",
    "heaviside3 = getHeaviside(N_steps_toy, t_event3 * timestep + timestep)\n",
    "\n",
    "kappa = L * v_L * gamma * alpha**(-1)\n",
    "timescale = mu * alpha * ( F * v_L * gamma)**(-1)\n",
    "\n",
    "exp1 = np.exp(- (time - (t_event1 * timestep + timestep)) / timescale)\n",
    "exp2 = np.exp(- (time - (t_event2 * timestep + timestep)) / timescale)\n",
    "exp3 = np.exp(- (time - (t_event3 * timestep + timestep)) / timescale)\n",
    "\n",
    "arg1 = kappa * p_event1 * np.exp(kappa * p_event1) * exp1\n",
    "arg2 = kappa * p_event2 * np.exp(kappa * p_event2) * exp2\n",
    "arg3 = kappa * p_event3 * np.exp(kappa * p_event3) * exp3\n",
    "\n",
    "ansatz = heaviside1 * kappa**(-1) * lambertw(arg1, k=0, tol=1e-8) + heaviside2 * kappa**(-1) * lambertw(arg2,k=0,tol=1e-8) + heaviside3 * kappa**(-1) * lambertw(arg3,k=0,tol=1e-8)"
   ]
  },
  {
   "cell_type": "code",
   "execution_count": null,
   "id": "distinguished-review",
   "metadata": {},
   "outputs": [],
   "source": [
    "# make Lucas ansatz\n",
    "Lansatz = heaviside1 * p_event1 * exp1 + heaviside2 * p_event2 * exp2 + heaviside3 * p_event3 * exp3"
   ]
  },
  {
   "cell_type": "code",
   "execution_count": null,
   "id": "affected-forty",
   "metadata": {},
   "outputs": [],
   "source": [
    "fig, ax = plt.subplots(2, figsize=(12,8), sharex=True)\n",
    "\n",
    "ax[0].plot(time, moisture, color='r', label=\"Full numerics\")\n",
    "ax[0].plot(time, ansatz, color='b', linestyle='dotted', label=r\"$m(t,p) = \\dfrac{1}{\\kappa} \\sum_{j} W_{0}\\left( \\kappa p_{j} e^{\\kappa p_{j}} e^{-(t - t_{j})/\\tau_{2}} \\right)$\")\n",
    "ax[0].plot(time, Lansatz, color='g', linestyle='-.', label=r\"$m(t,p) = \\sum_{j} p_{j} e^{-(t - t_{j})/\\tau_{2}}$\")\n",
    "ax[0].legend(bbox_to_anchor=(1,1), loc='upper left',frameon=False, fontsize=18)\n",
    "ax[0].set_ylabel(\"Moisture fraction\", fontsize = 22)\n",
    "\n",
    "ax[1].plot(time, abs(moisture - ansatz), color='b', linestyle='dotted')\n",
    "ax[1].plot(time, abs(moisture - Lansatz), color='g', linestyle='-.')\n",
    "ax[1].set_ylabel(r\"$\\left(m_{full} - m_{ana}\\right)/m_{full}$\", fontsize = 22)\n",
    "ax[1].set_xlabel(\"Time (s)\", fontsize = 22)\n",
    "\n",
    "fig.savefig(\"./figures/9_27_2021_verify_ansatz_toymodel.png\", dpi=400)\n",
    "fig.savefig(\"../docs/figdump/9_27_2021_verify_ansatz_toymodel.png\", dpi=400)"
   ]
  },
  {
   "cell_type": "markdown",
   "id": "adaptive-gregory",
   "metadata": {},
   "source": [
    "### Full Model: Physical Precipitation Model and Month-long simulation\n",
    "\n",
    "#### Preliminaries\n",
    "\n",
    "From Google, in Illinois it rains ~108 days per year. So for 365 days per year, let's say the average time between rain events is ~3.5. This sets $\\omega = 3.5$, where $\\omega$ is the mean of the Poisson distribution.\n",
    "\n",
    "This will set the *interval* between rain events. There will be one occuring at $t=0$. Also, $\\omega$ represents the amount of time *in days* between rain events, but our simulation timestep will be less than one day. So this will have to be transformed using dimensional analysis, which will happen later on.\n",
    "\n",
    "I will take the average precip event to have amplitude of 0.05, such that $p_{0} = 0.05$; this implies that the average rain event fills 5% of the soil column's moisture fraction. The scale parameter is set to 1."
   ]
  },
  {
   "cell_type": "code",
   "execution_count": null,
   "id": "three-member",
   "metadata": {},
   "outputs": [],
   "source": [
    "dist_size = 10**6\n",
    "precip_mean = 0.2\n",
    "precip_scale = 0.5 # no basis for why this is set to one...\n",
    "precip_amplitudes = np.random.gamma(precip_mean, precip_scale, size=dist_size)\n",
    "\n",
    "poisson_mean = 3.5 # omega\n",
    "precip_freqs = np.random.poisson(3.5, size=dist_size)\n",
    "\n",
    "plt.hist(precip_amplitudes, bins=50)\n",
    "np.mean(precip_amplitudes)"
   ]
  },
  {
   "cell_type": "code",
   "execution_count": null,
   "id": "civilian-clerk",
   "metadata": {},
   "outputs": [],
   "source": [
    "N_steps = 7776000 # approx one summer's worth of seconds\n",
    "timestep = 1\n",
    "time = np.arange(0, N_steps * timestep, timestep)\n",
    "# 86400 seconds in one day \n",
    "omega_timestep = 3.5 * 86400 * timestep**(-1)"
   ]
  },
  {
   "cell_type": "code",
   "execution_count": null,
   "id": "congressional-uruguay",
   "metadata": {},
   "outputs": [],
   "source": [
    "moisture_full = np.zeros(N_steps)\n",
    "ansatz_full = np.zeros(N_steps)\n",
    "ansatz_full_exp = np.zeros(N_steps)\n",
    "\n",
    "moisture_2d = np.zeros(N_steps)\n",
    "temperature = np.zeros(N_steps)\n",
    "\n",
    "tracker = 1\n",
    "\n",
    "kappa = L * v_L * gamma * alpha**(-1)\n",
    "timescale = mu * alpha * ( F * v_L * gamma)**(-1)\n",
    "\n",
    "for i in range(1, N_steps):\n",
    "    if i == tracker:\n",
    "        tmp_precip = np.random.gamma(precip_mean, precip_scale)\n",
    "        moisture_full[i] = moisture_full[i-1] + timestep * getMFlux1D(moisture_full[i-1], param_list, tmp_precip)\n",
    "        \n",
    "        moisture_2d[i] = moisture_2d[i-1] + timestep * getMFluxFull(temperature[i-1], moisture_2d[i-1], param_list, tmp_precip)\n",
    "        temperature[i] = temperature[i-1] + timestep * getTFluxFull(temperature[i-1], moisture_2d[i-1], param_list)\n",
    "        \n",
    "        tmp_heaviside = getHeaviside(N_steps, i * timestep)\n",
    "        tmp_exp = np.exp(- (time - (i * timestep)) / timescale)\n",
    "        tmp_arg = kappa * tmp_precip * np.exp(kappa * tmp_precip) * tmp_exp\n",
    "        tmp_ansatz = tmp_heaviside * kappa**(-1) * lambertw(tmp_arg, k=0, tol=1e-8)\n",
    "        tmp_ansatz_exp = tmp_precip * tmp_exp * tmp_heaviside\n",
    "        \n",
    "        ansatz_full = ansatz_full + tmp_ansatz\n",
    "        ansatz_full_exp = ansatz_full_exp + tmp_ansatz_exp\n",
    "        tracker += int(np.random.poisson(omega_timestep))\n",
    "    else:\n",
    "        moisture_full[i] = moisture_full[i-1] + timestep * getMFlux1D(moisture_full[i-1], param_list, 0)\n",
    "        moisture_2d[i] = moisture_2d[i-1] + timestep * getMFluxFull(temperature[i-1], moisture_2d[i-1], param_list, 0)\n",
    "        temperature[i] = temperature[i-1] + timestep * getTFluxFull(temperature[i-1], moisture_2d[i-1], param_list)"
   ]
  },
  {
   "cell_type": "code",
   "execution_count": null,
   "id": "cooperative-appraisal",
   "metadata": {
    "scrolled": true
   },
   "outputs": [],
   "source": [
    "fig, ax = plt.subplots(2, sharex=True, figsize=(14,10))\n",
    "\n",
    "ax[0].plot(time, moisture_2d, color='k', linestyle=\"-\", label=\"Full dynamics\", linewidth=2.5, zorder=1)\n",
    "ax[0].plot(time, moisture_full, color='#E69F00', linestyle='dotted', label=\"Hasselmann\", linewidth=1.75, zorder=3)\n",
    "ax[0].plot(time, ansatz_full, color='#56B4E9', linestyle='dashed', alpha=0.8, label='Lambert $W$',linewidth=1, zorder=5)\n",
    "ax[0].plot(time, ansatz_full_exp, color='#009E73', linestyle=\"dashdot\", label=\"Exponential\", linewidth=1, zorder=7)\n",
    "ax[0].set_ylabel(\"Moisture Fraction\", fontsize=22)\n",
    "ax[0].legend(frameon=False, fontsize=20)\n",
    "ax[0].tick_params(axis=\"both\", labelsize=20)\n",
    "\n",
    "ax[1].plot(time, abs(moisture_full - ansatz_full), color='#56B4E9', linestyle='dashed')\n",
    "ax[1].plot(time, abs(moisture_full - ansatz_full_exp), color='#009E73', linestyle='dashdot')\n",
    "ax[1].set_ylabel(\"Rel. Diff\", fontsize=22)\n",
    "ax[1].tick_params(axis=\"both\", labelsize=20)\n",
    "ax[1].set_xlabel(r\"Time (days)\", fontsize=22)\n",
    "\n",
    "ax[1].set_xticklabels([0,15,30,45,60,75,90])\n",
    "ax[1].set_xticks([0 * 86400, int(15 *86400), int(30 *86400), int(45 *86400), int(60 *86400), int(75 *86400), int(90 *86400)])\n",
    "\n",
    "ax[1].set_xlim([0, int(90 * 86400)])\n",
    "\n",
    "fig.savefig(\"./figures/1_7_2021_verify_ansatz_fullsummer_exp.png\", dpi=400)\n",
    "fig.savefig(\"../docs/figdump/1_7_2021_verify_ansatz_fullsummer_exp.png\", dpi=400)"
   ]
  },
  {
   "cell_type": "code",
   "execution_count": null,
   "id": "continental-minutes",
   "metadata": {},
   "outputs": [],
   "source": []
  }
 ],
 "metadata": {
  "kernelspec": {
   "display_name": "Python 3",
   "language": "python",
   "name": "python3"
  },
  "language_info": {
   "codemirror_mode": {
    "name": "ipython",
    "version": 3
   },
   "file_extension": ".py",
   "mimetype": "text/x-python",
   "name": "python",
   "nbconvert_exporter": "python",
   "pygments_lexer": "ipython3",
   "version": "3.8.5"
  }
 },
 "nbformat": 4,
 "nbformat_minor": 5
}
